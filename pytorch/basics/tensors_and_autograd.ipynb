{
 "cells": [
  {
   "cell_type": "markdown",
   "metadata": {},
   "source": [
    "# PyTorch Basics - Tensors and Autograd\n",
    "### By [Akshaj Verma](https://akshajverma.com)  \n",
    "\n",
    "This notebook takes you through a few of the most commonly used tensor operations as well as demonstrate the autograd functionality of PyTorch."
   ]
  },
  {
   "cell_type": "code",
   "execution_count": 1,
   "metadata": {},
   "outputs": [],
   "source": [
    "import numpy as np\n",
    "\n",
    "import torch\n",
    "from torch.autograd import grad"
   ]
  },
  {
   "cell_type": "markdown",
   "metadata": {},
   "source": [
    "## Tensor Operations"
   ]
  },
  {
   "cell_type": "markdown",
   "metadata": {},
   "source": [
    "### Create an unitialised tensor."
   ]
  },
  {
   "cell_type": "code",
   "execution_count": 2,
   "metadata": {},
   "outputs": [
    {
     "name": "stdout",
     "output_type": "stream",
     "text": [
      "tensor([[140124855070912, 140124855070984, 140124855071056, 140124855071128],\n",
      "        [140124855071200, 140124855071272, 140124855068720, 140125080614480],\n",
      "        [140125080521392, 140124855066736, 140124855066800, 140124855066864]])\n"
     ]
    }
   ],
   "source": [
    "x = torch.LongTensor(3, 4)\n",
    "print(x)"
   ]
  },
  {
   "cell_type": "code",
   "execution_count": 3,
   "metadata": {},
   "outputs": [
    {
     "name": "stdout",
     "output_type": "stream",
     "text": [
      "tensor([[1.7288e+25, 4.5717e-41, 1.7288e+25, 4.5717e-41],\n",
      "        [0.0000e+00, 0.0000e+00, 0.0000e+00, 0.0000e+00],\n",
      "        [0.0000e+00, 2.7523e+23, 1.8788e+31, 1.7220e+22]])\n"
     ]
    }
   ],
   "source": [
    "x = torch.FloatTensor(3, 4)\n",
    "print(x)"
   ]
  },
  {
   "cell_type": "markdown",
   "metadata": {},
   "source": [
    "### Create a tensor manually"
   ]
  },
  {
   "cell_type": "code",
   "execution_count": 4,
   "metadata": {},
   "outputs": [
    {
     "data": {
      "text/plain": [
       "tensor([[1., 2., 3.],\n",
       "        [4., 5., 6.]])"
      ]
     },
     "execution_count": 4,
     "metadata": {},
     "output_type": "execute_result"
    }
   ],
   "source": [
    "x1 = torch.tensor([[1., 2., 3.], [4., 5., 6.]])\n",
    "x1"
   ]
  },
  {
   "cell_type": "markdown",
   "metadata": {},
   "source": [
    "### Create tensor from a list"
   ]
  },
  {
   "cell_type": "code",
   "execution_count": 5,
   "metadata": {},
   "outputs": [
    {
     "name": "stdout",
     "output_type": "stream",
     "text": [
      "List: \n",
      " [[1, 2, 3], [4, 5, 6]] \n",
      "\n",
      "Tensor:\n",
      "tensor([[1, 2, 3],\n",
      "        [4, 5, 6]])\n"
     ]
    }
   ],
   "source": [
    "py_list = [[1, 2, 3], [4, 5, 6]]\n",
    "print('List: \\n', py_list, '\\n')\n",
    "\n",
    "print('Tensor:')\n",
    "print(torch.tensor(py_list))"
   ]
  },
  {
   "cell_type": "markdown",
   "metadata": {},
   "source": [
    "### Create tensor from a numpy array"
   ]
  },
  {
   "cell_type": "code",
   "execution_count": 6,
   "metadata": {},
   "outputs": [
    {
     "name": "stdout",
     "output_type": "stream",
     "text": [
      "Float numpy array: \n",
      " [[0.03161911 0.52214984 0.06134578 0.03143846]\n",
      " [0.72253513 0.1396692  0.14399402 0.02879052]\n",
      " [0.01618331 0.41498778 0.60040201 0.95173069]] \n",
      "\n",
      "Float Tensor:\n",
      "tensor([[0.0316, 0.5221, 0.0613, 0.0314],\n",
      "        [0.7225, 0.1397, 0.1440, 0.0288],\n",
      "        [0.0162, 0.4150, 0.6004, 0.9517]])\n"
     ]
    }
   ],
   "source": [
    "numpy_array = np.random.random((3, 4)).astype(float)\n",
    "print('Float numpy array: \\n', numpy_array, '\\n')\n",
    "\n",
    "print('Float Tensor:')\n",
    "print(torch.FloatTensor(numpy_array))"
   ]
  },
  {
   "cell_type": "markdown",
   "metadata": {},
   "source": [
    "### Convert tensor to a numpy array"
   ]
  },
  {
   "cell_type": "code",
   "execution_count": 7,
   "metadata": {},
   "outputs": [
    {
     "name": "stdout",
     "output_type": "stream",
     "text": [
      "Tensor:\n",
      "tensor([[1., 2., 3.],\n",
      "        [4., 5., 6.]])\n",
      "\n",
      "Numpy array:\n",
      "[[1. 2. 3.]\n",
      " [4. 5. 6.]]\n"
     ]
    }
   ],
   "source": [
    "print('Tensor:')\n",
    "print(x1)\n",
    "\n",
    "print('\\nNumpy array:')\n",
    "print(x1.numpy())"
   ]
  },
  {
   "cell_type": "markdown",
   "metadata": {},
   "source": [
    "### Create tensor within a range"
   ]
  },
  {
   "cell_type": "code",
   "execution_count": 8,
   "metadata": {},
   "outputs": [
    {
     "data": {
      "text/plain": [
       "tensor([0, 1, 2, 3, 4, 5, 6, 7, 8, 9])"
      ]
     },
     "execution_count": 8,
     "metadata": {},
     "output_type": "execute_result"
    }
   ],
   "source": [
    "# Create tensor from 0 to 10.\n",
    "torch.arange(10)"
   ]
  },
  {
   "cell_type": "code",
   "execution_count": 9,
   "metadata": {},
   "outputs": [
    {
     "data": {
      "text/plain": [
       "tensor([0., 1., 2., 3., 4., 5., 6., 7., 8., 9.])"
      ]
     },
     "execution_count": 9,
     "metadata": {},
     "output_type": "execute_result"
    }
   ],
   "source": [
    "torch.arange(10, dtype=torch.float)"
   ]
  },
  {
   "cell_type": "code",
   "execution_count": 10,
   "metadata": {},
   "outputs": [
    {
     "data": {
      "text/plain": [
       "tensor([0, 1, 2, 3, 4, 5, 6, 7, 8, 9])"
      ]
     },
     "execution_count": 10,
     "metadata": {},
     "output_type": "execute_result"
    }
   ],
   "source": [
    "torch.arange(10, dtype=torch.long)"
   ]
  },
  {
   "cell_type": "markdown",
   "metadata": {},
   "source": [
    "### Create tensor with random values"
   ]
  },
  {
   "cell_type": "code",
   "execution_count": 11,
   "metadata": {},
   "outputs": [
    {
     "data": {
      "text/plain": [
       "tensor([[ 0.6797,  1.3238, -0.5602, -0.6977],\n",
       "        [ 1.1281, -0.8198, -0.2968, -0.1166],\n",
       "        [ 0.8521, -1.0367,  0.5664, -0.7052]])"
      ]
     },
     "execution_count": 11,
     "metadata": {},
     "output_type": "execute_result"
    }
   ],
   "source": [
    "torch.randn(3, 4)"
   ]
  },
  {
   "cell_type": "code",
   "execution_count": 12,
   "metadata": {},
   "outputs": [
    {
     "data": {
      "text/plain": [
       "tensor([[0.8505, 0.8817, 0.2612, 0.8152],\n",
       "        [0.6652, 0.3061, 0.0246, 0.4880],\n",
       "        [0.7158, 0.6929, 0.4464, 0.0923]])"
      ]
     },
     "execution_count": 12,
     "metadata": {},
     "output_type": "execute_result"
    }
   ],
   "source": [
    "# Only positive values\n",
    "torch.rand(3, 4)"
   ]
  },
  {
   "cell_type": "markdown",
   "metadata": {},
   "source": [
    "### Create tensor as identity matrix"
   ]
  },
  {
   "cell_type": "code",
   "execution_count": 13,
   "metadata": {},
   "outputs": [
    {
     "data": {
      "text/plain": [
       "tensor([[1., 0., 0.],\n",
       "        [0., 1., 0.],\n",
       "        [0., 0., 1.]])"
      ]
     },
     "execution_count": 13,
     "metadata": {},
     "output_type": "execute_result"
    }
   ],
   "source": [
    "torch.eye(3, 3)"
   ]
  },
  {
   "cell_type": "markdown",
   "metadata": {},
   "source": [
    "### Create tensor with all zeros"
   ]
  },
  {
   "cell_type": "code",
   "execution_count": 14,
   "metadata": {},
   "outputs": [
    {
     "data": {
      "text/plain": [
       "tensor([[0., 0., 0., 0.],\n",
       "        [0., 0., 0., 0.],\n",
       "        [0., 0., 0., 0.]])"
      ]
     },
     "execution_count": 14,
     "metadata": {},
     "output_type": "execute_result"
    }
   ],
   "source": [
    "torch.zeros(3, 4)"
   ]
  },
  {
   "cell_type": "markdown",
   "metadata": {},
   "source": [
    "### Create tensor with all ones"
   ]
  },
  {
   "cell_type": "code",
   "execution_count": 15,
   "metadata": {},
   "outputs": [
    {
     "data": {
      "text/plain": [
       "tensor([[1., 1., 1., 1.],\n",
       "        [1., 1., 1., 1.],\n",
       "        [1., 1., 1., 1.]])"
      ]
     },
     "execution_count": 15,
     "metadata": {},
     "output_type": "execute_result"
    }
   ],
   "source": [
    "torch.ones(3, 4)"
   ]
  },
  {
   "cell_type": "markdown",
   "metadata": {},
   "source": [
    "### Index a tensor"
   ]
  },
  {
   "cell_type": "code",
   "execution_count": 16,
   "metadata": {},
   "outputs": [
    {
     "name": "stdout",
     "output_type": "stream",
     "text": [
      "tensor([[1., 2., 3.],\n",
      "        [4., 5., 6.]]) \n",
      "\n",
      "Tensor at x1[0,0] = 1.0\n",
      "Tensor at x1[1,2] = 6.0\n",
      "0th column of x1 = tensor([1., 4.])\n",
      "1st row of x1 = tensor([4., 5., 6.])\n"
     ]
    }
   ],
   "source": [
    "print(x1, '\\n')\n",
    "print(f\"Tensor at x1[0,0] = {x1[0, 0]}\")\n",
    "print(f\"Tensor at x1[1,2] = {x1[1, 2]}\")\n",
    "print(f\"0th column of x1 = {x1[:, 0]}\")\n",
    "print(f\"1st row of x1 = {x1[1, :]}\")"
   ]
  },
  {
   "cell_type": "markdown",
   "metadata": {},
   "source": [
    "### Shape of a tensor"
   ]
  },
  {
   "cell_type": "code",
   "execution_count": 17,
   "metadata": {},
   "outputs": [
    {
     "name": "stdout",
     "output_type": "stream",
     "text": [
      "tensor([[1., 2., 3.],\n",
      "        [4., 5., 6.]]) \n",
      "\n",
      "torch.Size([2, 3])\n"
     ]
    }
   ],
   "source": [
    "print(x1, '\\n')\n",
    "print(x1.shape)"
   ]
  },
  {
   "cell_type": "markdown",
   "metadata": {},
   "source": [
    "### Reshape a tensor"
   ]
  },
  {
   "cell_type": "code",
   "execution_count": 18,
   "metadata": {},
   "outputs": [
    {
     "data": {
      "text/plain": [
       "tensor([0., 1., 2., 3., 4., 5., 6., 7., 8., 9.])"
      ]
     },
     "execution_count": 18,
     "metadata": {},
     "output_type": "execute_result"
    }
   ],
   "source": [
    "x2 = torch.arange(10, dtype=torch.float)\n",
    "x2"
   ]
  },
  {
   "cell_type": "code",
   "execution_count": 19,
   "metadata": {},
   "outputs": [
    {
     "data": {
      "text/plain": [
       "tensor([[0., 1., 2., 3., 4.],\n",
       "        [5., 6., 7., 8., 9.]])"
      ]
     },
     "execution_count": 19,
     "metadata": {},
     "output_type": "execute_result"
    }
   ],
   "source": [
    "x2.view(2, 5)"
   ]
  },
  {
   "cell_type": "markdown",
   "metadata": {},
   "source": [
    "`-1` auto-identifies the dimension based on the size of the tensor."
   ]
  },
  {
   "cell_type": "code",
   "execution_count": 20,
   "metadata": {},
   "outputs": [
    {
     "data": {
      "text/plain": [
       "tensor([[0., 1.],\n",
       "        [2., 3.],\n",
       "        [4., 5.],\n",
       "        [6., 7.],\n",
       "        [8., 9.]])"
      ]
     },
     "execution_count": 20,
     "metadata": {},
     "output_type": "execute_result"
    }
   ],
   "source": [
    "x2.view(5, -1)"
   ]
  },
  {
   "cell_type": "code",
   "execution_count": 21,
   "metadata": {},
   "outputs": [
    {
     "data": {
      "text/plain": [
       "tensor([[0., 1.],\n",
       "        [2., 3.],\n",
       "        [4., 5.],\n",
       "        [6., 7.],\n",
       "        [8., 9.]])"
      ]
     },
     "execution_count": 21,
     "metadata": {},
     "output_type": "execute_result"
    }
   ],
   "source": [
    "x2.reshape(5, -1)"
   ]
  },
  {
   "cell_type": "markdown",
   "metadata": {},
   "source": [
    "### Change tensor axis"
   ]
  },
  {
   "cell_type": "markdown",
   "metadata": {},
   "source": [
    "`view` and `permute` are slighlty different. `view` changes the order of the tensors while `permute` only changes the axis.  "
   ]
  },
  {
   "cell_type": "code",
   "execution_count": 22,
   "metadata": {},
   "outputs": [
    {
     "name": "stdout",
     "output_type": "stream",
     "text": [
      "x1: \n",
      " tensor([[1., 2., 3.],\n",
      "        [4., 5., 6.]])\n",
      "\n",
      "x1.shape: \n",
      " torch.Size([2, 3])\n",
      "\n",
      "x1.view(3, -1): \n",
      " tensor([[1., 2.],\n",
      "        [3., 4.],\n",
      "        [5., 6.]])\n",
      "\n",
      "x1.permute(1, 0): \n",
      " tensor([[1., 4.],\n",
      "        [2., 5.],\n",
      "        [3., 6.]])\n"
     ]
    }
   ],
   "source": [
    "print(\"x1: \\n\", x1)\n",
    "print(\"\\nx1.shape: \\n\", x1.shape)\n",
    "print(\"\\nx1.view(3, -1): \\n\", x1.view(3, -1))\n",
    "print(\"\\nx1.permute(1, 0): \\n\", x1.permute(1, 0))"
   ]
  },
  {
   "cell_type": "markdown",
   "metadata": {},
   "source": [
    "### Get contents of a tensor"
   ]
  },
  {
   "cell_type": "code",
   "execution_count": 23,
   "metadata": {},
   "outputs": [
    {
     "name": "stdout",
     "output_type": "stream",
     "text": [
      "tensor([0., 1., 2., 3., 4., 5., 6., 7., 8., 9.])\n",
      "tensor(3.)\n",
      "3.0\n"
     ]
    }
   ],
   "source": [
    "print(x2)\n",
    "print(x2[3])\n",
    "print(x2[3].item())"
   ]
  },
  {
   "cell_type": "markdown",
   "metadata": {},
   "source": [
    "### Get the mean value of a tensor"
   ]
  },
  {
   "cell_type": "code",
   "execution_count": 24,
   "metadata": {},
   "outputs": [
    {
     "name": "stdout",
     "output_type": "stream",
     "text": [
      "tensor([[1., 2., 3.],\n",
      "        [4., 5., 6.]])\n"
     ]
    },
    {
     "data": {
      "text/plain": [
       "tensor(3.5000)"
      ]
     },
     "execution_count": 24,
     "metadata": {},
     "output_type": "execute_result"
    }
   ],
   "source": [
    "print(x1)\n",
    "torch.mean(x1)"
   ]
  },
  {
   "cell_type": "markdown",
   "metadata": {},
   "source": [
    "### Get the sum of values in a tensor"
   ]
  },
  {
   "cell_type": "code",
   "execution_count": 25,
   "metadata": {},
   "outputs": [
    {
     "name": "stdout",
     "output_type": "stream",
     "text": [
      "tensor([[1., 2., 3.],\n",
      "        [4., 5., 6.]])\n"
     ]
    },
    {
     "data": {
      "text/plain": [
       "tensor(21.)"
      ]
     },
     "execution_count": 25,
     "metadata": {},
     "output_type": "execute_result"
    }
   ],
   "source": [
    "print(x1)\n",
    "torch.sum(x1)"
   ]
  },
  {
   "cell_type": "markdown",
   "metadata": {},
   "source": [
    "### Get e^x values for a tensor"
   ]
  },
  {
   "cell_type": "code",
   "execution_count": 26,
   "metadata": {},
   "outputs": [
    {
     "name": "stdout",
     "output_type": "stream",
     "text": [
      "tensor([[1., 2., 3.],\n",
      "        [4., 5., 6.]])\n"
     ]
    },
    {
     "data": {
      "text/plain": [
       "tensor([[  2.7183,   7.3891,  20.0855],\n",
       "        [ 54.5981, 148.4132, 403.4288]])"
      ]
     },
     "execution_count": 26,
     "metadata": {},
     "output_type": "execute_result"
    }
   ],
   "source": [
    "print(x1)\n",
    "torch.exp(x1)"
   ]
  },
  {
   "cell_type": "markdown",
   "metadata": {},
   "source": [
    "### Arithmetic operations with tensors"
   ]
  },
  {
   "cell_type": "code",
   "execution_count": 27,
   "metadata": {},
   "outputs": [
    {
     "name": "stdout",
     "output_type": "stream",
     "text": [
      "x3 + x4 = \n",
      "tensor([[-0.1989,  1.9295],\n",
      "        [-0.1405, -0.8919],\n",
      "        [-0.6190, -3.6546],\n",
      "        [-1.4263, -0.1889],\n",
      "        [ 0.7664, -0.6130]])\n",
      "\n",
      "x3 - x4 = \n",
      "tensor([[ 1.5613, -1.8650],\n",
      "        [-2.2483, -1.9581],\n",
      "        [ 0.4915,  0.6334],\n",
      "        [ 2.0189, -2.8248],\n",
      "        [-2.5310, -4.7337]])\n",
      "\n",
      "x3 * x4  (element wise)= \n",
      "tensor([[-0.5995,  0.0612],\n",
      "        [-1.2588, -0.7597],\n",
      "        [ 0.0354,  3.2387],\n",
      "        [-0.5104, -1.9860],\n",
      "        [-1.4547, -5.5080]])\n",
      "\n",
      "x3 @ x4  (matrix mul)= \n",
      "tensor([[-0.5384,  0.7351, -0.4474, -1.1310,  1.1895],\n",
      "        [-1.6525, -2.0185,  3.7184,  0.1793, -4.9052],\n",
      "        [-2.8099, -0.8725,  3.2741, -1.8812, -3.2174],\n",
      "        [-3.1196, -0.4911,  3.0662, -2.4964, -2.6162],\n",
      "        [-4.2954, -2.3551,  6.2215, -2.0035, -6.9626]])\n",
      "\n"
     ]
    }
   ],
   "source": [
    "x3 = torch.randn(5, 2)\n",
    "x4 = torch.randn(5, 2)\n",
    "\n",
    "print(f\"x3 + x4 = \\n{x3 + x4}\\n\")\n",
    "print(f\"x3 - x4 = \\n{x3 - x4}\\n\")\n",
    "print(f\"x3 * x4  (element wise)= \\n{x3 * x4}\\n\")\n",
    "# You can also do [x3 @ x4.t()] for matrix multiplication.\n",
    "print(f\"x3 @ x4  (matrix mul)= \\n{torch.matmul(x3, x4.t())}\\n\")\n"
   ]
  },
  {
   "cell_type": "markdown",
   "metadata": {},
   "source": [
    "### Concatenate Tensors"
   ]
  },
  {
   "cell_type": "markdown",
   "metadata": {},
   "source": [
    "Concatenate rows."
   ]
  },
  {
   "cell_type": "code",
   "execution_count": 28,
   "metadata": {},
   "outputs": [
    {
     "name": "stdout",
     "output_type": "stream",
     "text": [
      "X5: torch.Size([4, 7])\n",
      "tensor([[ 0.9009, -0.7907,  0.2602, -1.4544,  1.0479, -1.1085,  0.9261],\n",
      "        [ 0.2041, -1.2046, -0.8984,  1.6531,  0.2567, -0.0466,  0.1195],\n",
      "        [-0.7890, -0.0156,  0.2190, -1.5073, -0.2212,  0.4541,  0.7874],\n",
      "        [ 0.7968, -0.1711, -1.0618, -0.1209, -0.4825, -0.7380, -2.1153]])\n",
      "\n",
      "X6: torch.Size([3, 7])\n",
      "tensor([[-1.1890,  0.1310,  1.7379,  1.8666,  1.4759,  1.9887,  1.1943],\n",
      "        [ 0.1609, -0.3116,  0.5274,  1.3037, -1.2190, -1.6068,  0.5382],\n",
      "        [ 1.0021,  0.5119,  1.7237, -0.3709, -0.1801, -0.3868, -1.0468]])\n",
      "\n",
      "Concatenated tensor torch.Size([7, 7])\n",
      "tensor([[ 0.9009, -0.7907,  0.2602, -1.4544,  1.0479, -1.1085,  0.9261],\n",
      "        [ 0.2041, -1.2046, -0.8984,  1.6531,  0.2567, -0.0466,  0.1195],\n",
      "        [-0.7890, -0.0156,  0.2190, -1.5073, -0.2212,  0.4541,  0.7874],\n",
      "        [ 0.7968, -0.1711, -1.0618, -0.1209, -0.4825, -0.7380, -2.1153],\n",
      "        [-1.1890,  0.1310,  1.7379,  1.8666,  1.4759,  1.9887,  1.1943],\n",
      "        [ 0.1609, -0.3116,  0.5274,  1.3037, -1.2190, -1.6068,  0.5382],\n",
      "        [ 1.0021,  0.5119,  1.7237, -0.3709, -0.1801, -0.3868, -1.0468]])\n"
     ]
    }
   ],
   "source": [
    "x5, x6 = torch.randn(4, 7), torch.randn(3, 7)\n",
    "print('X5:', x5.shape)\n",
    "print(x5)\n",
    "print('\\nX6:', x6.shape)\n",
    "print(x6)\n",
    "\n",
    "print('\\nConcatenated tensor', torch.cat((x5, x6)).shape)\n",
    "print(torch.cat((x5, x6)))"
   ]
  },
  {
   "cell_type": "code",
   "execution_count": 29,
   "metadata": {},
   "outputs": [
    {
     "name": "stdout",
     "output_type": "stream",
     "text": [
      "X7: torch.Size([3, 3])\n",
      "tensor([[-1.1606,  1.5264,  1.4718],\n",
      "        [ 0.9691, -0.1215, -0.1852],\n",
      "        [-0.5792, -1.2848, -0.8485]])\n",
      "\n",
      "X8: torch.Size([3, 5])\n",
      "tensor([[ 0.3518, -0.2296,  0.5546,  1.5093,  1.6241],\n",
      "        [ 0.8275, -1.1022, -0.1441, -0.3518,  0.4338],\n",
      "        [-0.1501, -1.1083,  0.3815, -0.5076,  0.5819]])\n",
      "\n",
      "Concatenated tensor torch.Size([3, 8])\n",
      "tensor([[-1.1606,  1.5264,  1.4718, -1.1606,  1.5264,  1.4718],\n",
      "        [ 0.9691, -0.1215, -0.1852,  0.9691, -0.1215, -0.1852],\n",
      "        [-0.5792, -1.2848, -0.8485, -0.5792, -1.2848, -0.8485]])\n"
     ]
    }
   ],
   "source": [
    "x7, x8 = torch.randn(3, 3), torch.randn(3, 5)\n",
    "print('X7:', x7.shape)\n",
    "print(x7)\n",
    "print('\\nX8:', x8.shape)\n",
    "print(x8)\n",
    "\n",
    "print('\\nConcatenated tensor', torch.cat((x7, x8), 1).shape)\n",
    "print(torch.cat((x7, x7), 1))"
   ]
  },
  {
   "cell_type": "markdown",
   "metadata": {},
   "source": [
    "### Find min/max value in a tensor"
   ]
  },
  {
   "cell_type": "code",
   "execution_count": 30,
   "metadata": {},
   "outputs": [
    {
     "name": "stdout",
     "output_type": "stream",
     "text": [
      "Tensor x1:\n",
      "tensor([[1., 2., 3.],\n",
      "        [4., 5., 6.]])\n",
      "\n",
      "Max value in the tensor:\n",
      "tensor(6.)\n",
      "\n",
      "Index of the max value in the tensor\n",
      "tensor(5)\n",
      "\n",
      "Min value in the tensor:\n",
      "tensor(1.)\n",
      "\n",
      "Index of the min value in the tensor\n",
      "tensor(0)\n"
     ]
    }
   ],
   "source": [
    "print('Tensor x1:')\n",
    "print(x1)\n",
    "\n",
    "print('\\nMax value in the tensor:')\n",
    "print(torch.max(x1))\n",
    "\n",
    "print('\\nIndex of the max value in the tensor')\n",
    "print(torch.argmax(x1))\n",
    "\n",
    "print('\\nMin value in the tensor:')\n",
    "print(torch.min(x1))\n",
    "\n",
    "print('\\nIndex of the min value in the tensor')\n",
    "print(torch.argmin(x1))"
   ]
  },
  {
   "cell_type": "markdown",
   "metadata": {},
   "source": [
    "### Remove dimensions from a tensor"
   ]
  },
  {
   "cell_type": "markdown",
   "metadata": {},
   "source": [
    "`torch.squeeze()` removes all 1-dimensional parts from a tensor."
   ]
  },
  {
   "cell_type": "code",
   "execution_count": 31,
   "metadata": {},
   "outputs": [
    {
     "name": "stdout",
     "output_type": "stream",
     "text": [
      "Tensor:\n",
      "tensor([[[[[0., 0., 0., 0., 0.]],\n",
      "\n",
      "          [[0., 0., 0., 0., 0.]],\n",
      "\n",
      "          [[0., 0., 0., 0., 0.]]]],\n",
      "\n",
      "\n",
      "\n",
      "        [[[[0., 0., 0., 0., 0.]],\n",
      "\n",
      "          [[0., 0., 0., 0., 0.]],\n",
      "\n",
      "          [[0., 0., 0., 0., 0.]]]]])\n",
      "\n",
      "Tensor shape:\n",
      "torch.Size([2, 1, 3, 1, 5])\n",
      "\n",
      "Tensor after torch.squeeze():\n",
      "tensor([[[0., 0., 0., 0., 0.],\n",
      "         [0., 0., 0., 0., 0.],\n",
      "         [0., 0., 0., 0., 0.]],\n",
      "\n",
      "        [[0., 0., 0., 0., 0.],\n",
      "         [0., 0., 0., 0., 0.],\n",
      "         [0., 0., 0., 0., 0.]]])\n",
      "\n",
      "Tensor shape after torch.squeeze():\n",
      "torch.Size([2, 3, 5])\n"
     ]
    }
   ],
   "source": [
    "x9 = torch.zeros(2, 1, 3, 1, 5)\n",
    "print('Tensor:')\n",
    "print(x9)\n",
    "\n",
    "print('\\nTensor shape:')\n",
    "print(x9.shape)\n",
    "\n",
    "print('\\nTensor after torch.squeeze():')\n",
    "print(x9.squeeze())\n",
    "\n",
    "print('\\nTensor shape after torch.squeeze():')\n",
    "print(x9.squeeze().shape)"
   ]
  },
  {
   "cell_type": "code",
   "execution_count": 32,
   "metadata": {},
   "outputs": [
    {
     "name": "stdout",
     "output_type": "stream",
     "text": [
      "Tensor:\n",
      "tensor([[0.],\n",
      "        [0.],\n",
      "        [0.]])\n",
      "\n",
      "Tensor shape:\n",
      "torch.Size([3, 1])\n",
      "\n",
      "Tensor shape after torch.squeeze(0):\n",
      "torch.Size([3, 1])\n",
      "\n",
      "Tensor shape after torch.squeeze(1):\n",
      "torch.Size([3])\n"
     ]
    }
   ],
   "source": [
    "x10 = torch.zeros(3, 1)\n",
    "print('Tensor:')\n",
    "print(x10)\n",
    "\n",
    "print('\\nTensor shape:')\n",
    "print(x10.shape)\n",
    "\n",
    "print('\\nTensor shape after torch.squeeze(0):')\n",
    "print(x10.squeeze(0).shape)\n",
    "\n",
    "print('\\nTensor shape after torch.squeeze(1):')\n",
    "print(x10.squeeze(1).shape)"
   ]
  },
  {
   "cell_type": "markdown",
   "metadata": {},
   "source": [
    "## Backpropagation using Autograd "
   ]
  },
  {
   "cell_type": "markdown",
   "metadata": {},
   "source": [
    "If `requires_grad=True`, the Tensor object keeps track of how it was created."
   ]
  },
  {
   "cell_type": "code",
   "execution_count": 33,
   "metadata": {},
   "outputs": [
    {
     "name": "stdout",
     "output_type": "stream",
     "text": [
      "x:  tensor([1., 2., 3.], requires_grad=True)\n",
      "y:  tensor([10., 20., 30.], requires_grad=True)\n",
      "\n",
      "z = x + y\n",
      "z: tensor([11., 22., 33.], grad_fn=<AddBackward0>)\n"
     ]
    }
   ],
   "source": [
    "x = torch.tensor([1., 2., 3.], requires_grad = True)\n",
    "print('x: ', x)\n",
    "\n",
    "y = torch.tensor([10., 20., 30.], requires_grad = True)\n",
    "print('y: ', y)\n",
    "\n",
    "z = x + y \n",
    "print('\\nz = x + y')\n",
    "print('z:', z)"
   ]
  },
  {
   "cell_type": "markdown",
   "metadata": {},
   "source": [
    "Since, `requires_grad=True`, `z` knows that it was created by the addition of two tensors `z = x + y`."
   ]
  },
  {
   "cell_type": "code",
   "execution_count": 34,
   "metadata": {},
   "outputs": [
    {
     "name": "stdout",
     "output_type": "stream",
     "text": [
      "tensor(66., grad_fn=<SumBackward0>)\n"
     ]
    }
   ],
   "source": [
    "s = z.sum()\n",
    "print(s)"
   ]
  },
  {
   "cell_type": "markdown",
   "metadata": {},
   "source": [
    "`s` knows that it was created by the sum of it's numbers. When we call `.backward()` on `s`, backrop is run starting from `s`. We can then calculate the gradients."
   ]
  },
  {
   "cell_type": "code",
   "execution_count": 35,
   "metadata": {},
   "outputs": [
    {
     "name": "stdout",
     "output_type": "stream",
     "text": [
      "x.grad:  tensor([1., 1., 1.])\n",
      "y.grad:  tensor([1., 1., 1.])\n"
     ]
    }
   ],
   "source": [
    "s.backward()\n",
    "print('x.grad: ', x.grad)\n",
    "print('y.grad: ', y.grad)"
   ]
  },
  {
   "attachments": {
    "backprop_autograd.png": {
     "image/png": "[encoded data removed]"
    }
   },
   "cell_type": "markdown",
   "metadata": {},
   "source": [
    "### Autograd Example\n",
    "\n",
    "\n",
    "Good Resources : \n",
    "\n",
    "[Slides from University of Oslo](https://www.uio.no/studier/emner/matnat/ifi/IN5400/v19/material/week4/IN5400_2019_week4_intro_to_pytorch.pdf#page=39&zoom=100,-87,505)\n",
    "\n",
    "\n",
    "[Elliot Wate - YouTube](https://www.youtube.com/watch?v=MswxJw-8PvE)\n",
    "\n",
    "\n",
    "![backprop_autograd.png](attachment:backprop_autograd.png)"
   ]
  },
  {
   "cell_type": "code",
   "execution_count": 36,
   "metadata": {},
   "outputs": [],
   "source": [
    "x1 = torch.tensor(2, dtype = torch.float32, requires_grad = True)\n",
    "x2 = torch.tensor(3, dtype = torch.float32, requires_grad = True)\n",
    "x3 = torch.tensor(1, dtype = torch.float32, requires_grad = True)\n",
    "x4 = torch.tensor(4, dtype = torch.float32, requires_grad = True)"
   ]
  },
  {
   "cell_type": "code",
   "execution_count": 37,
   "metadata": {},
   "outputs": [],
   "source": [
    "z1 = x1 * x2 \n",
    "z2 = x3 * x4\n",
    "f = z1 + z2"
   ]
  },
  {
   "cell_type": "code",
   "execution_count": 38,
   "metadata": {},
   "outputs": [
    {
     "data": {
      "text/plain": [
       "(tensor(3.), tensor(2.), tensor(4.), tensor(1.), tensor(1.), tensor(1.))"
      ]
     },
     "execution_count": 38,
     "metadata": {},
     "output_type": "execute_result"
    }
   ],
   "source": [
    "gradients = grad(outputs=f, inputs = [x1, x2, x3, x4, z1, z2])\n",
    "gradients"
   ]
  },
  {
   "cell_type": "code",
   "execution_count": 39,
   "metadata": {},
   "outputs": [
    {
     "name": "stdout",
     "output_type": "stream",
     "text": [
      "Gradient of x1 = 3.0\n",
      "Gradient of x2 = 2.0\n",
      "Gradient of x3 = 4.0\n",
      "Gradient of x4 = 1.0\n",
      "Gradient of z1 = 1.0\n",
      "Gradient of z2 = 1.0\n"
     ]
    }
   ],
   "source": [
    "print(f\"Gradient of x1 = {gradients[0]}\")\n",
    "print(f\"Gradient of x2 = {gradients[1]}\")\n",
    "print(f\"Gradient of x3 = {gradients[2]}\")\n",
    "print(f\"Gradient of x4 = {gradients[3]}\")\n",
    "print(f\"Gradient of z1 = {gradients[4]}\")\n",
    "print(f\"Gradient of z2 = {gradients[5]}\")"
   ]
  },
  {
   "cell_type": "markdown",
   "metadata": {},
   "source": [
    "A **leaf tensor** is a tensor that is created directly and not as a result of any arithmetic operation.  \n",
    "In the above case, *x1, x2, x3, x4* are leaf tensors while *z1* and *z2* are not."
   ]
  },
  {
   "cell_type": "markdown",
   "metadata": {},
   "source": [
    "Instead of specifying all the inputs to calculate the gradient using `grad(outputs=f, inputs = [x1, x2, x3, x4, z1, z2])`, we can use `tensor.backward()` to auto calculate all the gradients."
   ]
  },
  {
   "cell_type": "code",
   "execution_count": 40,
   "metadata": {},
   "outputs": [],
   "source": [
    "x1 = torch.tensor(2, dtype = torch.float32, requires_grad = True)\n",
    "x2 = torch.tensor(3, dtype = torch.float32, requires_grad = True)\n",
    "x3 = torch.tensor(1, dtype = torch.float32, requires_grad = True)\n",
    "x4 = torch.tensor(4, dtype = torch.float32, requires_grad = True)\n",
    "\n",
    "z1 = x1 * x2 \n",
    "z2 = x3 * x4\n",
    "f = z1 + z2\n",
    "\n",
    "f.backward()"
   ]
  },
  {
   "cell_type": "code",
   "execution_count": 41,
   "metadata": {},
   "outputs": [
    {
     "name": "stdout",
     "output_type": "stream",
     "text": [
      "Gradient of x1 = 3.0\n",
      "Gradient of x2 = 2.0\n",
      "Gradient of x3 = 4.0\n",
      "Gradient of x4 = 1.0\n",
      "Gradient of z1 = None\n",
      "Gradient of z2 = None\n"
     ]
    }
   ],
   "source": [
    "print(f\"Gradient of x1 = {x1.grad}\")\n",
    "print(f\"Gradient of x2 = {x2.grad}\")\n",
    "print(f\"Gradient of x3 = {x3.grad}\")\n",
    "print(f\"Gradient of x4 = {x4.grad}\")\n",
    "print(f\"Gradient of z1 = {z1.grad}\")\n",
    "print(f\"Gradient of z2 = {z2.grad}\")"
   ]
  },
  {
   "cell_type": "markdown",
   "metadata": {},
   "source": [
    "We can make the gradients 0 using `x.grad.zero_`.  "
   ]
  },
  {
   "cell_type": "code",
   "execution_count": 42,
   "metadata": {},
   "outputs": [
    {
     "name": "stdout",
     "output_type": "stream",
     "text": [
      "tensor(0.)\n"
     ]
    }
   ],
   "source": [
    "print(x1.grad.zero_())"
   ]
  }
 ],
 "metadata": {
  "kernelspec": {
   "display_name": "Python 3",
   "language": "python",
   "name": "python3"
  },
  "language_info": {
   "codemirror_mode": {
    "name": "ipython",
    "version": 3
   },
   "file_extension": ".py",
   "mimetype": "text/x-python",
   "name": "python",
   "nbconvert_exporter": "python",
   "pygments_lexer": "ipython3",
   "version": "3.6.10"
  }
 },
 "nbformat": 4,
 "nbformat_minor": 4
}
